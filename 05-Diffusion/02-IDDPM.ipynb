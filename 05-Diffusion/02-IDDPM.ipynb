{
 "cells": [
  {
   "cell_type": "markdown",
   "metadata": {},
   "source": [
    "# Improved Denoising Diffusion Probabilistic Models (IDDPM)"
   ]
  },
  {
   "cell_type": "code",
   "execution_count": 1,
   "metadata": {},
   "outputs": [],
   "source": [
    "class DiffusionModelConfig:\n",
    "    image_size = 64\n",
    "    num_channels = 128\n",
    "    num_res_blocks = 2\n",
    "    num_heads = 4\n",
    "    num_heads_upsample = -1\n",
    "    attention_resolutions = \"16,8\"\n",
    "    dropout = 0.0\n",
    "    learn_sigma = False\n",
    "    sigma_small = False\n",
    "    class_cond = False\n",
    "    diffusion_steps = 1000\n",
    "    noise_schedule = \"linear\"\n",
    "    timestep_respacing = \"\"\n",
    "    use_kl = False\n",
    "    predict_xstart = False\n",
    "    rescale_timesteps = True\n",
    "    rescale_learned_sigmas = True\n",
    "    use_checkpoint = False\n",
    "    use_scale_shift_norm = True\n",
    "\n",
    "config = DiffusionModelConfig()"
   ]
  },
  {
   "cell_type": "code",
   "execution_count": 2,
   "metadata": {},
   "outputs": [
    {
     "ename": "ImportError",
     "evalue": "attempted relative import with no known parent package",
     "output_type": "error",
     "traceback": [
      "\u001b[0;31m---------------------------------------------------------------------------\u001b[0m",
      "\u001b[0;31mImportError\u001b[0m                               Traceback (most recent call last)",
      "Cell \u001b[0;32mIn[2], line 1\u001b[0m\n\u001b[0;32m----> 1\u001b[0m \u001b[38;5;28;01mfrom\u001b[39;00m \u001b[38;5;21;01munet\u001b[39;00m \u001b[38;5;28;01mimport\u001b[39;00m UNetModel\n\u001b[1;32m      4\u001b[0m image_size \u001b[38;5;241m=\u001b[39m config\u001b[38;5;241m.\u001b[39mimage_size\n\u001b[1;32m      5\u001b[0m attention_resolutions \u001b[38;5;241m=\u001b[39m config\u001b[38;5;241m.\u001b[39mattention_resolutions\n",
      "File \u001b[0;32m~/Downloads/Github/Python-for-Deep-Learning/05-Diffusion/unet.py:10\u001b[0m\n\u001b[1;32m      7\u001b[0m \u001b[38;5;28;01mimport\u001b[39;00m \u001b[38;5;21;01mtorch\u001b[39;00m\u001b[38;5;21;01m.\u001b[39;00m\u001b[38;5;21;01mnn\u001b[39;00m \u001b[38;5;28;01mas\u001b[39;00m \u001b[38;5;21;01mnn\u001b[39;00m\n\u001b[1;32m      8\u001b[0m \u001b[38;5;28;01mimport\u001b[39;00m \u001b[38;5;21;01mtorch\u001b[39;00m\u001b[38;5;21;01m.\u001b[39;00m\u001b[38;5;21;01mnn\u001b[39;00m\u001b[38;5;21;01m.\u001b[39;00m\u001b[38;5;21;01mfunctional\u001b[39;00m \u001b[38;5;28;01mas\u001b[39;00m \u001b[38;5;21;01mF\u001b[39;00m\n\u001b[0;32m---> 10\u001b[0m \u001b[38;5;28;01mfrom\u001b[39;00m \u001b[38;5;21;01m.\u001b[39;00m\u001b[38;5;21;01mfp16_util\u001b[39;00m \u001b[38;5;28;01mimport\u001b[39;00m convert_module_to_f16, convert_module_to_f32\n\u001b[1;32m     11\u001b[0m \u001b[38;5;28;01mfrom\u001b[39;00m \u001b[38;5;21;01m.\u001b[39;00m\u001b[38;5;21;01mnn\u001b[39;00m \u001b[38;5;28;01mimport\u001b[39;00m (\n\u001b[1;32m     12\u001b[0m     SiLU,\n\u001b[1;32m     13\u001b[0m     conv_nd,\n\u001b[0;32m   (...)\u001b[0m\n\u001b[1;32m     19\u001b[0m     checkpoint,\n\u001b[1;32m     20\u001b[0m )\n\u001b[1;32m     23\u001b[0m \u001b[38;5;28;01mclass\u001b[39;00m \u001b[38;5;21;01mTimestepBlock\u001b[39;00m(nn\u001b[38;5;241m.\u001b[39mModule):\n",
      "\u001b[0;31mImportError\u001b[0m: attempted relative import with no known parent package"
     ]
    }
   ],
   "source": [
    "from unet import UNetModel\n",
    "\n",
    "\n",
    "image_size = config.image_size\n",
    "attention_resolutions = config.attention_resolutions\n",
    "\n",
    "if image_size == 256:\n",
    "    channel_mult = (1, 1, 2, 2, 4, 4)\n",
    "elif image_size == 64:\n",
    "    channel_mult = (1, 2, 3, 4)\n",
    "elif image_size == 32:\n",
    "    channel_mult = (1, 2, 2, 2)\n",
    "else:\n",
    "    raise ValueError(f\"unsupported image size: {image_size}\")\n",
    "\n",
    "attention_ds = []\n",
    "for res in attention_resolutions.split(\",\"):\n",
    "    attention_ds.append(image_size // int(res))\n",
    "        \n",
    "model = UNetModel(\n",
    "    in_channels             = 3,\n",
    "    model_channels          = config.num_channels,\n",
    "    out_channels            = (3 if not config.learn_sigma else 6),\n",
    "    num_res_blocks          = config.num_res_blocks,\n",
    "    attention_resolutions   = tuple(attention_ds),\n",
    "    dropout                 = config.dropout,\n",
    "    channel_mult            = channel_mult,\n",
    "    num_classes             = (config.NUM_CLASSES if config.class_cond else None),\n",
    "    use_checkpoint          = config.use_checkpoint,\n",
    "    num_heads               = config.num_heads,\n",
    "    num_heads_upsample      = config.num_heads_upsample,\n",
    "    use_scale_shift_norm    = config.use_scale_shift_norm,\n",
    ")"
   ]
  },
  {
   "cell_type": "code",
   "execution_count": null,
   "metadata": {},
   "outputs": [],
   "source": []
  }
 ],
 "metadata": {
  "kernelspec": {
   "display_name": "Python 3",
   "language": "python",
   "name": "python3"
  },
  "language_info": {
   "codemirror_mode": {
    "name": "ipython",
    "version": 3
   },
   "file_extension": ".py",
   "mimetype": "text/x-python",
   "name": "python",
   "nbconvert_exporter": "python",
   "pygments_lexer": "ipython3",
   "version": "3.9.6"
  }
 },
 "nbformat": 4,
 "nbformat_minor": 2
}
