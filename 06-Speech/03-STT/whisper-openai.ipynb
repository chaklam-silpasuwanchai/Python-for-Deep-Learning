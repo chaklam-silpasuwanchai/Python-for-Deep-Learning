{
 "cells": [
  {
   "cell_type": "markdown",
   "metadata": {},
   "source": [
    "# Robust Speech Recognition via Large-Scale Weak Supervision (Whisper)\n",
    "\n",
    "The Whisper architecture is a simple end-to-end approach, implemented as an encoder-decoder Transformer. Input audio is split into 30-second chunks, converted into a log-Mel spectrogram, and then passed into an encoder. A decoder is trained to predict the corresponding text caption, intermixed with special tokens that direct the single model to perform tasks such as language identification, phrase-level timestamps, multilingual speech transcription, and to-English speech translation.\n",
    "\n",
    "<img src=\"figures/whisper-arch.png\" title=\"Whisper Framework\" style=\"width: 640px;\" />"
   ]
  },
  {
   "cell_type": "code",
   "execution_count": 1,
   "metadata": {},
   "outputs": [],
   "source": [
    "# pip install evaluate\n",
    "# pip install torchaudio\n",
    "# pip install transformers\n",
    "# pip install numpy\n",
    "# pip install tqdm"
   ]
  },
  {
   "cell_type": "code",
   "execution_count": 40,
   "metadata": {},
   "outputs": [],
   "source": [
    "# !pip install -U openai-whisper\n",
    "# !pip install torchaudio\n",
    "# !pip install jiwer"
   ]
  },
  {
   "cell_type": "code",
   "execution_count": 2,
   "metadata": {},
   "outputs": [],
   "source": [
    "import os\n",
    "# Set GPU device\n",
    "os.environ[\"CUDA_VISIBLE_DEVICES\"] = \"0\"\n",
    "\n",
    "os.environ['http_proxy']  = 'http://192.41.170.23:3128'\n",
    "os.environ['https_proxy'] = 'http://192.41.170.23:3128'"
   ]
  },
  {
   "cell_type": "markdown",
   "metadata": {},
   "source": [
    "# Open-AI Library"
   ]
  },
  {
   "cell_type": "markdown",
   "metadata": {},
   "source": [
    "## Loading the LibriSpeech dataset\n",
    "\n",
    "The following will load the test-clean split of the LibriSpeech corpus using torchaudio."
   ]
  },
  {
   "cell_type": "code",
   "execution_count": 41,
   "metadata": {},
   "outputs": [],
   "source": [
    "import os\n",
    "import time\n",
    "import numpy as np\n",
    "from tqdm.auto import tqdm\n",
    "\n",
    "import torch\n",
    "import pandas as pd\n",
    "import whisper\n",
    "import torchaudio\n",
    "\n",
    "device = \"cuda\" if torch.cuda.is_available() else \"cpu\""
   ]
  },
  {
   "cell_type": "code",
   "execution_count": 42,
   "metadata": {},
   "outputs": [],
   "source": [
    "class LibriSpeech(torch.utils.data.Dataset):\n",
    "    \"\"\"\n",
    "    A simple class to wrap LibriSpeech and trim/pad the audio to 30 seconds.\n",
    "    It will drop the last few seconds of a very small portion of the utterances.\n",
    "    \"\"\"\n",
    "    def __init__(self, split=\"test-clean\", device=device):\n",
    "        self.dataset = torchaudio.datasets.LIBRISPEECH(\n",
    "            root=os.path.expanduser(\"~/.cache\"),\n",
    "            url=split,\n",
    "            download=True,\n",
    "        )\n",
    "        self.device = device\n",
    "\n",
    "    def __len__(self):\n",
    "        return len(self.dataset)\n",
    "\n",
    "    def __getitem__(self, item):\n",
    "        audio, sample_rate, text, _, _, _ = self.dataset[item]\n",
    "        assert sample_rate == 16000\n",
    "        audio = whisper.pad_or_trim(audio.flatten()).to(self.device)\n",
    "        mel = whisper.log_mel_spectrogram(audio)\n",
    "        \n",
    "        return (mel, text)"
   ]
  },
  {
   "cell_type": "code",
   "execution_count": 43,
   "metadata": {},
   "outputs": [],
   "source": [
    "dataset = LibriSpeech(\"test-clean\")\n",
    "loader = torch.utils.data.DataLoader(dataset, batch_size=16)"
   ]
  },
  {
   "cell_type": "code",
   "execution_count": 44,
   "metadata": {},
   "outputs": [
    {
     "name": "stderr",
     "output_type": "stream",
     "text": [
      "/home/todsavadt/.local/lib/python3.10/site-packages/whisper/__init__.py:146: FutureWarning: You are using `torch.load` with `weights_only=False` (the current default value), which uses the default pickle module implicitly. It is possible to construct malicious pickle data which will execute arbitrary code during unpickling (See https://github.com/pytorch/pytorch/blob/main/SECURITY.md#untrusted-models for more details). In a future release, the default value for `weights_only` will be flipped to `True`. This limits the functions that could be executed during unpickling. Arbitrary objects will no longer be allowed to be loaded via this mode unless they are explicitly allowlisted by the user via `torch.serialization.add_safe_globals`. We recommend you start setting `weights_only=True` for any use case where you don't have full control of the loaded file. Please open an issue on GitHub for any issues related to this experimental feature.\n",
      "  checkpoint = torch.load(fp, map_location=device)\n"
     ]
    },
    {
     "name": "stdout",
     "output_type": "stream",
     "text": [
      " Help me in here! Help me in here!\n"
     ]
    }
   ],
   "source": [
    "import whisper\n",
    "\n",
    "model = whisper.load_model(\"tiny\")\n",
    "result = model.transcribe(\"audio.mp3\")\n",
    "print(result[\"text\"])"
   ]
  },
  {
   "cell_type": "markdown",
   "metadata": {},
   "source": [
    "## Running inference on the dataset using a base Whisper model\n",
    "\n",
    "The following will take a few minutes to transcribe all utterances in the dataset."
   ]
  },
  {
   "cell_type": "code",
   "execution_count": 45,
   "metadata": {},
   "outputs": [
    {
     "name": "stdout",
     "output_type": "stream",
     "text": [
      "Model is multilingual and has 37,184,640 parameters.\n"
     ]
    },
    {
     "name": "stderr",
     "output_type": "stream",
     "text": [
      "/home/todsavadt/.local/lib/python3.10/site-packages/whisper/__init__.py:146: FutureWarning: You are using `torch.load` with `weights_only=False` (the current default value), which uses the default pickle module implicitly. It is possible to construct malicious pickle data which will execute arbitrary code during unpickling (See https://github.com/pytorch/pytorch/blob/main/SECURITY.md#untrusted-models for more details). In a future release, the default value for `weights_only` will be flipped to `True`. This limits the functions that could be executed during unpickling. Arbitrary objects will no longer be allowed to be loaded via this mode unless they are explicitly allowlisted by the user via `torch.serialization.add_safe_globals`. We recommend you start setting `weights_only=True` for any use case where you don't have full control of the loaded file. Please open an issue on GitHub for any issues related to this experimental feature.\n",
      "  checkpoint = torch.load(fp, map_location=device)\n"
     ]
    }
   ],
   "source": [
    "model = whisper.load_model(\"tiny\")\n",
    "print(\n",
    "    f\"Model is {'multilingual' if model.is_multilingual else 'English-only'} \"\n",
    "    f\"and has {sum(np.prod(p.shape) for p in model.parameters()):,} parameters.\"\n",
    ")"
   ]
  },
  {
   "cell_type": "code",
   "execution_count": 46,
   "metadata": {},
   "outputs": [],
   "source": [
    "# predict without timestamps for short-form transcription\n",
    "options = whisper.DecodingOptions(language=\"en\", without_timestamps=True)"
   ]
  },
  {
   "cell_type": "code",
   "execution_count": 47,
   "metadata": {},
   "outputs": [
    {
     "data": {
      "application/vnd.jupyter.widget-view+json": {
       "model_id": "7aafa5abdaf34eaa93adf5a222f88f8f",
       "version_major": 2,
       "version_minor": 0
      },
      "text/plain": [
       "  0%|          | 0/164 [00:00<?, ?it/s]"
      ]
     },
     "metadata": {},
     "output_type": "display_data"
    }
   ],
   "source": [
    "hypotheses = []\n",
    "references = []\n",
    "\n",
    "for mels, texts in tqdm(loader):\n",
    "    results = model.decode(mels, options)\n",
    "    hypotheses.extend([result.text for result in results])\n",
    "    references.extend(texts)\n",
    "    break"
   ]
  },
  {
   "cell_type": "code",
   "execution_count": 48,
   "metadata": {},
   "outputs": [
    {
     "data": {
      "text/html": [
       "<div>\n",
       "<style scoped>\n",
       "    .dataframe tbody tr th:only-of-type {\n",
       "        vertical-align: middle;\n",
       "    }\n",
       "\n",
       "    .dataframe tbody tr th {\n",
       "        vertical-align: top;\n",
       "    }\n",
       "\n",
       "    .dataframe thead th {\n",
       "        text-align: right;\n",
       "    }\n",
       "</style>\n",
       "<table border=\"1\" class=\"dataframe\">\n",
       "  <thead>\n",
       "    <tr style=\"text-align: right;\">\n",
       "      <th></th>\n",
       "      <th>hypothesis</th>\n",
       "      <th>reference</th>\n",
       "    </tr>\n",
       "  </thead>\n",
       "  <tbody>\n",
       "    <tr>\n",
       "      <th>0</th>\n",
       "      <td>He hoped there would be stew for dinner, turni...</td>\n",
       "      <td>HE HOPED THERE WOULD BE STEW FOR DINNER TURNIP...</td>\n",
       "    </tr>\n",
       "    <tr>\n",
       "      <th>1</th>\n",
       "      <td>Stuffed into you, his belly, couchled him.</td>\n",
       "      <td>STUFF IT INTO YOU HIS BELLY COUNSELLED HIM</td>\n",
       "    </tr>\n",
       "    <tr>\n",
       "      <th>2</th>\n",
       "      <td>After early nightfall, the yellow lamps would ...</td>\n",
       "      <td>AFTER EARLY NIGHTFALL THE YELLOW LAMPS WOULD L...</td>\n",
       "    </tr>\n",
       "    <tr>\n",
       "      <th>3</th>\n",
       "      <td>Hey Bertie, any good in your mind?</td>\n",
       "      <td>HELLO BERTIE ANY GOOD IN YOUR MIND</td>\n",
       "    </tr>\n",
       "    <tr>\n",
       "      <th>4</th>\n",
       "      <td>Number 10 Fresh Nelly is waiting on you. Good ...</td>\n",
       "      <td>NUMBER TEN FRESH NELLY IS WAITING ON YOU GOOD ...</td>\n",
       "    </tr>\n",
       "    <tr>\n",
       "      <th>5</th>\n",
       "      <td>The music came nearer and he recalled the word...</td>\n",
       "      <td>THE MUSIC CAME NEARER AND HE RECALLED THE WORD...</td>\n",
       "    </tr>\n",
       "    <tr>\n",
       "      <th>6</th>\n",
       "      <td>The dull light fell more faintly upon the page...</td>\n",
       "      <td>THE DULL LIGHT FELL MORE FAINTLY UPON THE PAGE...</td>\n",
       "    </tr>\n",
       "    <tr>\n",
       "      <th>7</th>\n",
       "      <td>A cold lucid indifference rained in his soul.</td>\n",
       "      <td>A COLD LUCID INDIFFERENCE REIGNED IN HIS SOUL</td>\n",
       "    </tr>\n",
       "    <tr>\n",
       "      <th>8</th>\n",
       "      <td>The chaos in which his order extinguished itse...</td>\n",
       "      <td>THE CHAOS IN WHICH HIS ARDOUR EXTINGUISHED ITS...</td>\n",
       "    </tr>\n",
       "    <tr>\n",
       "      <th>9</th>\n",
       "      <td>At most, by an arms given to a beggar whose bl...</td>\n",
       "      <td>AT MOST BY AN ALMS GIVEN TO A BEGGAR WHOSE BLE...</td>\n",
       "    </tr>\n",
       "    <tr>\n",
       "      <th>10</th>\n",
       "      <td>Well now, in this I declare you have a head an...</td>\n",
       "      <td>WELL NOW ENNIS I DECLARE YOU HAVE A HEAD AND S...</td>\n",
       "    </tr>\n",
       "    <tr>\n",
       "      <th>11</th>\n",
       "      <td>On Saturday mornings when the so-dality met in...</td>\n",
       "      <td>ON SATURDAY MORNINGS WHEN THE SODALITY MET IN ...</td>\n",
       "    </tr>\n",
       "    <tr>\n",
       "      <th>12</th>\n",
       "      <td>Her eyes seemed to regard him with mild pity. ...</td>\n",
       "      <td>HER EYES SEEMED TO REGARD HIM WITH MILD PITY H...</td>\n",
       "    </tr>\n",
       "    <tr>\n",
       "      <th>13</th>\n",
       "      <td>If ever he was impelled to cast sin from him a...</td>\n",
       "      <td>IF EVER HE WAS IMPELLED TO CAST SIN FROM HIM A...</td>\n",
       "    </tr>\n",
       "    <tr>\n",
       "      <th>14</th>\n",
       "      <td>He tried to think how it could be.</td>\n",
       "      <td>HE TRIED TO THINK HOW IT COULD BE</td>\n",
       "    </tr>\n",
       "    <tr>\n",
       "      <th>15</th>\n",
       "      <td>but the dusk deepening in the school room cove...</td>\n",
       "      <td>BUT THE DUSK DEEPENING IN THE SCHOOLROOM COVER...</td>\n",
       "    </tr>\n",
       "  </tbody>\n",
       "</table>\n",
       "</div>"
      ],
      "text/plain": [
       "                                           hypothesis  \\\n",
       "0   He hoped there would be stew for dinner, turni...   \n",
       "1          Stuffed into you, his belly, couchled him.   \n",
       "2   After early nightfall, the yellow lamps would ...   \n",
       "3                  Hey Bertie, any good in your mind?   \n",
       "4   Number 10 Fresh Nelly is waiting on you. Good ...   \n",
       "5   The music came nearer and he recalled the word...   \n",
       "6   The dull light fell more faintly upon the page...   \n",
       "7       A cold lucid indifference rained in his soul.   \n",
       "8   The chaos in which his order extinguished itse...   \n",
       "9   At most, by an arms given to a beggar whose bl...   \n",
       "10  Well now, in this I declare you have a head an...   \n",
       "11  On Saturday mornings when the so-dality met in...   \n",
       "12  Her eyes seemed to regard him with mild pity. ...   \n",
       "13  If ever he was impelled to cast sin from him a...   \n",
       "14                 He tried to think how it could be.   \n",
       "15  but the dusk deepening in the school room cove...   \n",
       "\n",
       "                                            reference  \n",
       "0   HE HOPED THERE WOULD BE STEW FOR DINNER TURNIP...  \n",
       "1          STUFF IT INTO YOU HIS BELLY COUNSELLED HIM  \n",
       "2   AFTER EARLY NIGHTFALL THE YELLOW LAMPS WOULD L...  \n",
       "3                  HELLO BERTIE ANY GOOD IN YOUR MIND  \n",
       "4   NUMBER TEN FRESH NELLY IS WAITING ON YOU GOOD ...  \n",
       "5   THE MUSIC CAME NEARER AND HE RECALLED THE WORD...  \n",
       "6   THE DULL LIGHT FELL MORE FAINTLY UPON THE PAGE...  \n",
       "7       A COLD LUCID INDIFFERENCE REIGNED IN HIS SOUL  \n",
       "8   THE CHAOS IN WHICH HIS ARDOUR EXTINGUISHED ITS...  \n",
       "9   AT MOST BY AN ALMS GIVEN TO A BEGGAR WHOSE BLE...  \n",
       "10  WELL NOW ENNIS I DECLARE YOU HAVE A HEAD AND S...  \n",
       "11  ON SATURDAY MORNINGS WHEN THE SODALITY MET IN ...  \n",
       "12  HER EYES SEEMED TO REGARD HIM WITH MILD PITY H...  \n",
       "13  IF EVER HE WAS IMPELLED TO CAST SIN FROM HIM A...  \n",
       "14                  HE TRIED TO THINK HOW IT COULD BE  \n",
       "15  BUT THE DUSK DEEPENING IN THE SCHOOLROOM COVER...  "
      ]
     },
     "execution_count": 48,
     "metadata": {},
     "output_type": "execute_result"
    }
   ],
   "source": [
    "data = pd.DataFrame(dict(hypothesis=hypotheses, reference=references))\n",
    "data"
   ]
  },
  {
   "cell_type": "markdown",
   "metadata": {},
   "source": [
    "## Calculating the word error rate\n",
    "\n",
    "Now, we use our English normalizer implementation to standardize the transcription and calculate the WER."
   ]
  },
  {
   "cell_type": "code",
   "execution_count": 49,
   "metadata": {},
   "outputs": [],
   "source": [
    "import jiwer\n",
    "from whisper.normalizers import EnglishTextNormalizer\n",
    "\n",
    "normalizer = EnglishTextNormalizer()"
   ]
  },
  {
   "cell_type": "code",
   "execution_count": 50,
   "metadata": {},
   "outputs": [
    {
     "data": {
      "text/html": [
       "<div>\n",
       "<style scoped>\n",
       "    .dataframe tbody tr th:only-of-type {\n",
       "        vertical-align: middle;\n",
       "    }\n",
       "\n",
       "    .dataframe tbody tr th {\n",
       "        vertical-align: top;\n",
       "    }\n",
       "\n",
       "    .dataframe thead th {\n",
       "        text-align: right;\n",
       "    }\n",
       "</style>\n",
       "<table border=\"1\" class=\"dataframe\">\n",
       "  <thead>\n",
       "    <tr style=\"text-align: right;\">\n",
       "      <th></th>\n",
       "      <th>hypothesis</th>\n",
       "      <th>reference</th>\n",
       "      <th>hypothesis_clean</th>\n",
       "      <th>reference_clean</th>\n",
       "    </tr>\n",
       "  </thead>\n",
       "  <tbody>\n",
       "    <tr>\n",
       "      <th>0</th>\n",
       "      <td>He hoped there would be stew for dinner, turni...</td>\n",
       "      <td>HE HOPED THERE WOULD BE STEW FOR DINNER TURNIP...</td>\n",
       "      <td>he hoped there would be stew for dinner turnip...</td>\n",
       "      <td>he hoped there would be stew for dinner turnip...</td>\n",
       "    </tr>\n",
       "    <tr>\n",
       "      <th>1</th>\n",
       "      <td>Stuffed into you, his belly, couchled him.</td>\n",
       "      <td>STUFF IT INTO YOU HIS BELLY COUNSELLED HIM</td>\n",
       "      <td>stuffed into you his belly couchled him</td>\n",
       "      <td>stuff it into you his belly counseled him</td>\n",
       "    </tr>\n",
       "    <tr>\n",
       "      <th>2</th>\n",
       "      <td>After early nightfall, the yellow lamps would ...</td>\n",
       "      <td>AFTER EARLY NIGHTFALL THE YELLOW LAMPS WOULD L...</td>\n",
       "      <td>after early nightfall the yellow lamps would l...</td>\n",
       "      <td>after early nightfall the yellow lamps would l...</td>\n",
       "    </tr>\n",
       "    <tr>\n",
       "      <th>3</th>\n",
       "      <td>Hey Bertie, any good in your mind?</td>\n",
       "      <td>HELLO BERTIE ANY GOOD IN YOUR MIND</td>\n",
       "      <td>hey bertie any good in your mind</td>\n",
       "      <td>hello bertie any good in your mind</td>\n",
       "    </tr>\n",
       "    <tr>\n",
       "      <th>4</th>\n",
       "      <td>Number 10 Fresh Nelly is waiting on you. Good ...</td>\n",
       "      <td>NUMBER TEN FRESH NELLY IS WAITING ON YOU GOOD ...</td>\n",
       "      <td>number 10 fresh nelly is waiting on you good n...</td>\n",
       "      <td>number 10 fresh nelly is waiting on you good n...</td>\n",
       "    </tr>\n",
       "    <tr>\n",
       "      <th>5</th>\n",
       "      <td>The music came nearer and he recalled the word...</td>\n",
       "      <td>THE MUSIC CAME NEARER AND HE RECALLED THE WORD...</td>\n",
       "      <td>the music came nearer and he recalled the word...</td>\n",
       "      <td>the music came nearer and he recalled the word...</td>\n",
       "    </tr>\n",
       "    <tr>\n",
       "      <th>6</th>\n",
       "      <td>The dull light fell more faintly upon the page...</td>\n",
       "      <td>THE DULL LIGHT FELL MORE FAINTLY UPON THE PAGE...</td>\n",
       "      <td>the dull light fell more faintly upon the page...</td>\n",
       "      <td>the dull light fell more faintly upon the page...</td>\n",
       "    </tr>\n",
       "    <tr>\n",
       "      <th>7</th>\n",
       "      <td>A cold lucid indifference rained in his soul.</td>\n",
       "      <td>A COLD LUCID INDIFFERENCE REIGNED IN HIS SOUL</td>\n",
       "      <td>a cold lucid indifference rained in his soul</td>\n",
       "      <td>a cold lucid indifference reigned in his soul</td>\n",
       "    </tr>\n",
       "    <tr>\n",
       "      <th>8</th>\n",
       "      <td>The chaos in which his order extinguished itse...</td>\n",
       "      <td>THE CHAOS IN WHICH HIS ARDOUR EXTINGUISHED ITS...</td>\n",
       "      <td>the chaos in which his order extinguished itse...</td>\n",
       "      <td>the chaos in which his ardor extinguished itse...</td>\n",
       "    </tr>\n",
       "    <tr>\n",
       "      <th>9</th>\n",
       "      <td>At most, by an arms given to a beggar whose bl...</td>\n",
       "      <td>AT MOST BY AN ALMS GIVEN TO A BEGGAR WHOSE BLE...</td>\n",
       "      <td>at most by an arms given to a beggar whose ble...</td>\n",
       "      <td>at most by an alms given to a beggar whose ble...</td>\n",
       "    </tr>\n",
       "    <tr>\n",
       "      <th>10</th>\n",
       "      <td>Well now, in this I declare you have a head an...</td>\n",
       "      <td>WELL NOW ENNIS I DECLARE YOU HAVE A HEAD AND S...</td>\n",
       "      <td>well now in this i declare you have a head and...</td>\n",
       "      <td>well now ennis i declare you have a head and s...</td>\n",
       "    </tr>\n",
       "    <tr>\n",
       "      <th>11</th>\n",
       "      <td>On Saturday mornings when the so-dality met in...</td>\n",
       "      <td>ON SATURDAY MORNINGS WHEN THE SODALITY MET IN ...</td>\n",
       "      <td>on saturday mornings when the so dality met in...</td>\n",
       "      <td>on saturday mornings when the sodality met in ...</td>\n",
       "    </tr>\n",
       "    <tr>\n",
       "      <th>12</th>\n",
       "      <td>Her eyes seemed to regard him with mild pity. ...</td>\n",
       "      <td>HER EYES SEEMED TO REGARD HIM WITH MILD PITY H...</td>\n",
       "      <td>her eyes seemed to regard him with mild pity h...</td>\n",
       "      <td>her eyes seemed to regard him with mild pity h...</td>\n",
       "    </tr>\n",
       "    <tr>\n",
       "      <th>13</th>\n",
       "      <td>If ever he was impelled to cast sin from him a...</td>\n",
       "      <td>IF EVER HE WAS IMPELLED TO CAST SIN FROM HIM A...</td>\n",
       "      <td>if ever he was impelled to cast sin from him a...</td>\n",
       "      <td>if ever he was impelled to cast sin from him a...</td>\n",
       "    </tr>\n",
       "    <tr>\n",
       "      <th>14</th>\n",
       "      <td>He tried to think how it could be.</td>\n",
       "      <td>HE TRIED TO THINK HOW IT COULD BE</td>\n",
       "      <td>he tried to think how it could be</td>\n",
       "      <td>he tried to think how it could be</td>\n",
       "    </tr>\n",
       "    <tr>\n",
       "      <th>15</th>\n",
       "      <td>but the dusk deepening in the school room cove...</td>\n",
       "      <td>BUT THE DUSK DEEPENING IN THE SCHOOLROOM COVER...</td>\n",
       "      <td>but the dusk deepening in the school room cove...</td>\n",
       "      <td>but the dusk deepening in the schoolroom cover...</td>\n",
       "    </tr>\n",
       "  </tbody>\n",
       "</table>\n",
       "</div>"
      ],
      "text/plain": [
       "                                           hypothesis  \\\n",
       "0   He hoped there would be stew for dinner, turni...   \n",
       "1          Stuffed into you, his belly, couchled him.   \n",
       "2   After early nightfall, the yellow lamps would ...   \n",
       "3                  Hey Bertie, any good in your mind?   \n",
       "4   Number 10 Fresh Nelly is waiting on you. Good ...   \n",
       "5   The music came nearer and he recalled the word...   \n",
       "6   The dull light fell more faintly upon the page...   \n",
       "7       A cold lucid indifference rained in his soul.   \n",
       "8   The chaos in which his order extinguished itse...   \n",
       "9   At most, by an arms given to a beggar whose bl...   \n",
       "10  Well now, in this I declare you have a head an...   \n",
       "11  On Saturday mornings when the so-dality met in...   \n",
       "12  Her eyes seemed to regard him with mild pity. ...   \n",
       "13  If ever he was impelled to cast sin from him a...   \n",
       "14                 He tried to think how it could be.   \n",
       "15  but the dusk deepening in the school room cove...   \n",
       "\n",
       "                                            reference  \\\n",
       "0   HE HOPED THERE WOULD BE STEW FOR DINNER TURNIP...   \n",
       "1          STUFF IT INTO YOU HIS BELLY COUNSELLED HIM   \n",
       "2   AFTER EARLY NIGHTFALL THE YELLOW LAMPS WOULD L...   \n",
       "3                  HELLO BERTIE ANY GOOD IN YOUR MIND   \n",
       "4   NUMBER TEN FRESH NELLY IS WAITING ON YOU GOOD ...   \n",
       "5   THE MUSIC CAME NEARER AND HE RECALLED THE WORD...   \n",
       "6   THE DULL LIGHT FELL MORE FAINTLY UPON THE PAGE...   \n",
       "7       A COLD LUCID INDIFFERENCE REIGNED IN HIS SOUL   \n",
       "8   THE CHAOS IN WHICH HIS ARDOUR EXTINGUISHED ITS...   \n",
       "9   AT MOST BY AN ALMS GIVEN TO A BEGGAR WHOSE BLE...   \n",
       "10  WELL NOW ENNIS I DECLARE YOU HAVE A HEAD AND S...   \n",
       "11  ON SATURDAY MORNINGS WHEN THE SODALITY MET IN ...   \n",
       "12  HER EYES SEEMED TO REGARD HIM WITH MILD PITY H...   \n",
       "13  IF EVER HE WAS IMPELLED TO CAST SIN FROM HIM A...   \n",
       "14                  HE TRIED TO THINK HOW IT COULD BE   \n",
       "15  BUT THE DUSK DEEPENING IN THE SCHOOLROOM COVER...   \n",
       "\n",
       "                                     hypothesis_clean  \\\n",
       "0   he hoped there would be stew for dinner turnip...   \n",
       "1             stuffed into you his belly couchled him   \n",
       "2   after early nightfall the yellow lamps would l...   \n",
       "3                    hey bertie any good in your mind   \n",
       "4   number 10 fresh nelly is waiting on you good n...   \n",
       "5   the music came nearer and he recalled the word...   \n",
       "6   the dull light fell more faintly upon the page...   \n",
       "7        a cold lucid indifference rained in his soul   \n",
       "8   the chaos in which his order extinguished itse...   \n",
       "9   at most by an arms given to a beggar whose ble...   \n",
       "10  well now in this i declare you have a head and...   \n",
       "11  on saturday mornings when the so dality met in...   \n",
       "12  her eyes seemed to regard him with mild pity h...   \n",
       "13  if ever he was impelled to cast sin from him a...   \n",
       "14                  he tried to think how it could be   \n",
       "15  but the dusk deepening in the school room cove...   \n",
       "\n",
       "                                      reference_clean  \n",
       "0   he hoped there would be stew for dinner turnip...  \n",
       "1           stuff it into you his belly counseled him  \n",
       "2   after early nightfall the yellow lamps would l...  \n",
       "3                  hello bertie any good in your mind  \n",
       "4   number 10 fresh nelly is waiting on you good n...  \n",
       "5   the music came nearer and he recalled the word...  \n",
       "6   the dull light fell more faintly upon the page...  \n",
       "7       a cold lucid indifference reigned in his soul  \n",
       "8   the chaos in which his ardor extinguished itse...  \n",
       "9   at most by an alms given to a beggar whose ble...  \n",
       "10  well now ennis i declare you have a head and s...  \n",
       "11  on saturday mornings when the sodality met in ...  \n",
       "12  her eyes seemed to regard him with mild pity h...  \n",
       "13  if ever he was impelled to cast sin from him a...  \n",
       "14                  he tried to think how it could be  \n",
       "15  but the dusk deepening in the schoolroom cover...  "
      ]
     },
     "execution_count": 50,
     "metadata": {},
     "output_type": "execute_result"
    }
   ],
   "source": [
    "data[\"hypothesis_clean\"] = [normalizer(text) for text in data[\"hypothesis\"]]\n",
    "data[\"reference_clean\"] = [normalizer(text) for text in data[\"reference\"]]\n",
    "data"
   ]
  },
  {
   "cell_type": "code",
   "execution_count": 51,
   "metadata": {},
   "outputs": [
    {
     "name": "stdout",
     "output_type": "stream",
     "text": [
      "WER: 7.41 %\n"
     ]
    }
   ],
   "source": [
    "wer = jiwer.wer(list(data[\"reference_clean\"]), list(data[\"hypothesis_clean\"]))\n",
    "\n",
    "print(f\"WER: {wer * 100:.2f} %\")"
   ]
  }
 ],
 "metadata": {
  "kernelspec": {
   "display_name": "Python 3 (ipykernel)",
   "language": "python",
   "name": "python3"
  },
  "language_info": {
   "codemirror_mode": {
    "name": "ipython",
    "version": 3
   },
   "file_extension": ".py",
   "mimetype": "text/x-python",
   "name": "python",
   "nbconvert_exporter": "python",
   "pygments_lexer": "ipython3",
   "version": "3.9.6"
  }
 },
 "nbformat": 4,
 "nbformat_minor": 4
}
